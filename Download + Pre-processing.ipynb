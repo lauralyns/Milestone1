{
 "cells": [
  {
   "cell_type": "code",
   "execution_count": 2,
   "id": "0a3e37ef-88c1-4b68-9c62-3479e2bc154f",
   "metadata": {
    "tags": []
   },
   "outputs": [],
   "source": [
    "#imports\n",
    "import zipfile\n",
    "import pandas as pd"
   ]
  },
  {
   "cell_type": "code",
   "execution_count": 2,
   "id": "670056ff-2ddc-412c-84f6-c4f1ef9ff3eb",
   "metadata": {
    "tags": []
   },
   "outputs": [],
   "source": [
    "#Parameters\n",
    "years = [2018, 2019, 2020, 2021, 2022]\n",
    "output_columns = ['activity_year', 'derived_msa_md', 'county_code','census_tract', \n",
    "    'loan_type','action_taken', 'property_value', 'derived_dwelling_category',\n",
    "    'reverse_mortgage','open_end_line_of_credit']"
   ]
  },
  {
   "cell_type": "code",
   "execution_count": 45,
   "id": "abfeaa11-90be-4412-aed9-49aca544480f",
   "metadata": {
    "tags": []
   },
   "outputs": [
    {
     "data": {
      "text/plain": [
       "'\\n! mkdir -p Coastal\\n! wget -P Coastal https://www2.census.gov/library/stories/2018/08/coastline-counties-list.xlsx\\n'"
      ]
     },
     "execution_count": 45,
     "metadata": {},
     "output_type": "execute_result"
    }
   ],
   "source": [
    "#Download Coastal data \n",
    "\n",
    "! mkdir -p Coastal\n",
    "! wget -P Coastal https://www2.census.gov/library/stories/2018/08/coastline-counties-list.xlsx\n"
   ]
  },
  {
   "cell_type": "code",
   "execution_count": 36,
   "id": "6b89f7f4-0002-4de3-9497-b1fbb3b58229",
   "metadata": {
    "tags": []
   },
   "outputs": [
    {
     "data": {
      "text/plain": [
       "\"\\n! mkdir -p HMDA\\nfor year in years:\\n    if year != 2017:\\n        stem = '{}/{}'.format(year,year)\\n    else:\\n        stem = str(year)\\n    zip_link = 'https://s3.amazonaws.com/cfpb-hmda-public/prod/snapshot-data/{}_public_lar_csv.zip'.format(stem)\\n    ! wget -P HMDA {zip_link}\\n    archive = zipfile.ZipFile('HMDA/{}_public_lar_csv.zip'.format(year))\\n    for file in archive.namelist():\\n        archive.extract(file, 'HMDA')\\n\""
      ]
     },
     "execution_count": 36,
     "metadata": {},
     "output_type": "execute_result"
    }
   ],
   "source": [
    "#Downloading HMDA data\n",
    "\n",
    "! mkdir -p HMDA\n",
    "for year in years:\n",
    "    if year != 2017:\n",
    "        stem = '{}/{}'.format(year,year)\n",
    "    else:\n",
    "        stem = str(year)\n",
    "    zip_link = 'https://s3.amazonaws.com/cfpb-hmda-public/prod/snapshot-data/{}_public_lar_csv.zip'.format(stem)\n",
    "    ! wget -P HMDA {zip_link}\n",
    "    archive = zipfile.ZipFile('HMDA/{}_public_lar_csv.zip'.format(year))\n",
    "    for file in archive.namelist():\n",
    "        archive.extract(file, 'HMDA')"
   ]
  },
  {
   "cell_type": "code",
   "execution_count": 44,
   "id": "99fa5f1e-f81a-4ae9-8ffb-4440d8ae093d",
   "metadata": {
    "tags": []
   },
   "outputs": [],
   "source": [
    "#Preprocessing - figuring out what columns to cut so can load more quickly into pandas\n",
    "#Run once on downloaded data files and then recomment out\n",
    "\n",
    "header = ! head -1 HMDA/2018_public_lar_csv.csv\n",
    "columns = list(header)[0].split(',')\n",
    "\n",
    "#finding the number for the columns to keep ('cut') based on output_columns parameter\n",
    "numbers = ''\n",
    "for name in output_columns:\n",
    "    numbers = numbers + str(columns.index(name) +1) + ','\n",
    "numbers = numbers[:-1]\n",
    "\n",
    "#running cut on each .csv file in the HMDA folder to save as smaller, uniformly named .csv\n",
    "file_list = !ls HMDA\n",
    "for file in file_list:\n",
    "    if file.endswith('csv'):\n",
    "        ! cut -d ',' -f {numbers} HMDA/{file} >> HMDA/{file[:4]}.csv"
   ]
  },
  {
   "cell_type": "code",
   "execution_count": 3,
   "id": "3b3dc6b9-78b2-4305-bd96-a689b2912273",
   "metadata": {
    "tags": []
   },
   "outputs": [],
   "source": [
    "df_2018 = pd.read_csv('HMDA/2018.csv')"
   ]
  },
  {
   "cell_type": "code",
   "execution_count": 4,
   "id": "1a4d82be-9cf5-46e8-9728-6a9467125694",
   "metadata": {
    "tags": []
   },
   "outputs": [
    {
     "data": {
      "text/html": [
       "<div>\n",
       "<style scoped>\n",
       "    .dataframe tbody tr th:only-of-type {\n",
       "        vertical-align: middle;\n",
       "    }\n",
       "\n",
       "    .dataframe tbody tr th {\n",
       "        vertical-align: top;\n",
       "    }\n",
       "\n",
       "    .dataframe thead th {\n",
       "        text-align: right;\n",
       "    }\n",
       "</style>\n",
       "<table border=\"1\" class=\"dataframe\">\n",
       "  <thead>\n",
       "    <tr style=\"text-align: right;\">\n",
       "      <th></th>\n",
       "      <th>activity_year</th>\n",
       "      <th>derived_msa_md</th>\n",
       "      <th>county_code</th>\n",
       "      <th>census_tract</th>\n",
       "      <th>derived_dwelling_category</th>\n",
       "      <th>action_taken</th>\n",
       "      <th>loan_type</th>\n",
       "      <th>reverse_mortgage</th>\n",
       "      <th>open_end_line_of_credit</th>\n",
       "      <th>property_value</th>\n",
       "    </tr>\n",
       "  </thead>\n",
       "  <tbody>\n",
       "    <tr>\n",
       "      <th>0</th>\n",
       "      <td>2018</td>\n",
       "      <td>40140</td>\n",
       "      <td>6071.0</td>\n",
       "      <td>6071009709.0</td>\n",
       "      <td>Single Family (1-4 Units):Site-Built</td>\n",
       "      <td>1</td>\n",
       "      <td>2</td>\n",
       "      <td>2</td>\n",
       "      <td>2</td>\n",
       "      <td>215000</td>\n",
       "    </tr>\n",
       "    <tr>\n",
       "      <th>1</th>\n",
       "      <td>2018</td>\n",
       "      <td>33460</td>\n",
       "      <td>27141.0</td>\n",
       "      <td>27141030101.0</td>\n",
       "      <td>Single Family (1-4 Units):Site-Built</td>\n",
       "      <td>1</td>\n",
       "      <td>1</td>\n",
       "      <td>2</td>\n",
       "      <td>2</td>\n",
       "      <td>225000</td>\n",
       "    </tr>\n",
       "    <tr>\n",
       "      <th>2</th>\n",
       "      <td>2018</td>\n",
       "      <td>47664</td>\n",
       "      <td>26125.0</td>\n",
       "      <td>26125183900.0</td>\n",
       "      <td>Single Family (1-4 Units):Site-Built</td>\n",
       "      <td>1</td>\n",
       "      <td>1</td>\n",
       "      <td>2</td>\n",
       "      <td>2</td>\n",
       "      <td>315000</td>\n",
       "    </tr>\n",
       "    <tr>\n",
       "      <th>3</th>\n",
       "      <td>2018</td>\n",
       "      <td>12060</td>\n",
       "      <td>13057.0</td>\n",
       "      <td>13057090400.0</td>\n",
       "      <td>Single Family (1-4 Units):Site-Built</td>\n",
       "      <td>1</td>\n",
       "      <td>1</td>\n",
       "      <td>2</td>\n",
       "      <td>2</td>\n",
       "      <td>255000</td>\n",
       "    </tr>\n",
       "    <tr>\n",
       "      <th>4</th>\n",
       "      <td>2018</td>\n",
       "      <td>29820</td>\n",
       "      <td>32003.0</td>\n",
       "      <td>32003005853.0</td>\n",
       "      <td>Single Family (1-4 Units):Site-Built</td>\n",
       "      <td>1</td>\n",
       "      <td>1</td>\n",
       "      <td>2</td>\n",
       "      <td>2</td>\n",
       "      <td>325000</td>\n",
       "    </tr>\n",
       "  </tbody>\n",
       "</table>\n",
       "</div>"
      ],
      "text/plain": [
       "   activity_year  derived_msa_md county_code   census_tract   \n",
       "0           2018           40140      6071.0   6071009709.0  \\\n",
       "1           2018           33460     27141.0  27141030101.0   \n",
       "2           2018           47664     26125.0  26125183900.0   \n",
       "3           2018           12060     13057.0  13057090400.0   \n",
       "4           2018           29820     32003.0  32003005853.0   \n",
       "\n",
       "              derived_dwelling_category  action_taken  loan_type   \n",
       "0  Single Family (1-4 Units):Site-Built             1          2  \\\n",
       "1  Single Family (1-4 Units):Site-Built             1          1   \n",
       "2  Single Family (1-4 Units):Site-Built             1          1   \n",
       "3  Single Family (1-4 Units):Site-Built             1          1   \n",
       "4  Single Family (1-4 Units):Site-Built             1          1   \n",
       "\n",
       "   reverse_mortgage  open_end_line_of_credit property_value  \n",
       "0                 2                        2         215000  \n",
       "1                 2                        2         225000  \n",
       "2                 2                        2         315000  \n",
       "3                 2                        2         255000  \n",
       "4                 2                        2         325000  "
      ]
     },
     "execution_count": 4,
     "metadata": {},
     "output_type": "execute_result"
    }
   ],
   "source": [
    "df_2018.head()"
   ]
  },
  {
   "cell_type": "code",
   "execution_count": null,
   "id": "72d6434c-b213-48f6-b254-f0f31f088b1a",
   "metadata": {},
   "outputs": [],
   "source": [
    "##Download for Fema Shapefile data and FEMA Risk data\n",
    "'''\n",
    "! mkdir -p Fema_ShapeFiles\n",
    "! wget -P Fema_ShapeFiles https://hazards.fema.gov/nri/Content/StaticDocuments/DataDownload//NRI_Shapefile_CensusTracts/NRI_Shapefile_CensusTracts.zip\n",
    "\n",
    "! mkdir -p Fema\n",
    "! wget -P Fema https://hazards.fema.gov/nri/Content/StaticDocuments/DataDownload//NRI_Table_CensusTracts/NRI_Table_CensusTracts.zip\n",
    "'''"
   ]
  }
 ],
 "metadata": {
  "kernelspec": {
   "display_name": "Python 3 (ipykernel)",
   "language": "python",
   "name": "python3"
  },
  "language_info": {
   "codemirror_mode": {
    "name": "ipython",
    "version": 3
   },
   "file_extension": ".py",
   "mimetype": "text/x-python",
   "name": "python",
   "nbconvert_exporter": "python",
   "pygments_lexer": "ipython3",
   "version": "3.10.11"
  }
 },
 "nbformat": 4,
 "nbformat_minor": 5
}
